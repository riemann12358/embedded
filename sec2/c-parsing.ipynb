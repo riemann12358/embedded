{
 "cells": [
  {
   "cell_type": "code",
   "execution_count": 13,
   "id": "9bbcb7ed",
   "metadata": {},
   "outputs": [
    {
     "name": "stdout",
     "output_type": "stream",
     "text": [
      "Requirement already satisfied: pycparser in /home/abdelrahmankh/anaconda3/lib/python3.9/site-packages (2.21)\r\n"
     ]
    }
   ],
   "source": [
    "!pip install pycparser\n",
    "from pycparser import parse_file\n",
    "FILE_PATH = \"./test.c\""
   ]
  },
  {
   "cell_type": "code",
   "execution_count": 14,
   "id": "a866860e",
   "metadata": {},
   "outputs": [],
   "source": [
    "def print_tree():\n",
    "    ast = parse_file(FILE_PATH, use_cpp=False)\n",
    "    print(ast)"
   ]
  },
  {
   "cell_type": "code",
   "execution_count": 15,
   "id": "ead3fbe6",
   "metadata": {},
   "outputs": [],
   "source": [
    "def edit_test_file(s: str):\n",
    "    with open(\"./test.c\", 'w') as file:\n",
    "        file.write(s)\n",
    "        file.close()\n"
   ]
  },
  {
   "cell_type": "code",
   "execution_count": 23,
   "id": "c471762d",
   "metadata": {},
   "outputs": [],
   "source": [
    "edit_test_file(\"\"\"\n",
    "int main()\n",
    "{\n",
    "    int x = 23;\n",
    "    int y = 34;\n",
    "    x + y * y + x;\n",
    "}\n",
    "\"\"\")"
   ]
  },
  {
   "cell_type": "code",
   "execution_count": 24,
   "id": "527be47b",
   "metadata": {},
   "outputs": [
    {
     "name": "stdout",
     "output_type": "stream",
     "text": [
      "FileAST(ext=[FuncDef(decl=Decl(name='main',\n",
      "                               quals=[\n",
      "                                     ],\n",
      "                               align=[\n",
      "                                     ],\n",
      "                               storage=[\n",
      "                                       ],\n",
      "                               funcspec=[\n",
      "                                        ],\n",
      "                               type=FuncDecl(args=None,\n",
      "                                             type=TypeDecl(declname='main',\n",
      "                                                           quals=[\n",
      "                                                                 ],\n",
      "                                                           align=None,\n",
      "                                                           type=IdentifierType(names=['int'\n",
      "                                                                                     ]\n",
      "                                                                               )\n",
      "                                                           )\n",
      "                                             ),\n",
      "                               init=None,\n",
      "                               bitsize=None\n",
      "                               ),\n",
      "                     param_decls=None,\n",
      "                     body=Compound(block_items=[Decl(name='x',\n",
      "                                                     quals=[\n",
      "                                                           ],\n",
      "                                                     align=[\n",
      "                                                           ],\n",
      "                                                     storage=[\n",
      "                                                             ],\n",
      "                                                     funcspec=[\n",
      "                                                              ],\n",
      "                                                     type=TypeDecl(declname='x',\n",
      "                                                                   quals=[\n",
      "                                                                         ],\n",
      "                                                                   align=None,\n",
      "                                                                   type=IdentifierType(names=['int'\n",
      "                                                                                             ]\n",
      "                                                                                       )\n",
      "                                                                   ),\n",
      "                                                     init=Constant(type='int',\n",
      "                                                                   value='23'\n",
      "                                                                   ),\n",
      "                                                     bitsize=None\n",
      "                                                     ),\n",
      "                                                Decl(name='y',\n",
      "                                                     quals=[\n",
      "                                                           ],\n",
      "                                                     align=[\n",
      "                                                           ],\n",
      "                                                     storage=[\n",
      "                                                             ],\n",
      "                                                     funcspec=[\n",
      "                                                              ],\n",
      "                                                     type=TypeDecl(declname='y',\n",
      "                                                                   quals=[\n",
      "                                                                         ],\n",
      "                                                                   align=None,\n",
      "                                                                   type=IdentifierType(names=['int'\n",
      "                                                                                             ]\n",
      "                                                                                       )\n",
      "                                                                   ),\n",
      "                                                     init=Constant(type='int',\n",
      "                                                                   value='34'\n",
      "                                                                   ),\n",
      "                                                     bitsize=None\n",
      "                                                     ),\n",
      "                                                BinaryOp(op='+',\n",
      "                                                         left=BinaryOp(op='+',\n",
      "                                                                       left=ID(name='x'\n",
      "                                                                               ),\n",
      "                                                                       right=BinaryOp(op='*',\n",
      "                                                                                      left=ID(name='y'\n",
      "                                                                                              ),\n",
      "                                                                                      right=ID(name='y'\n",
      "                                                                                               )\n",
      "                                                                                      )\n",
      "                                                                       ),\n",
      "                                                         right=ID(name='x'\n",
      "                                                                  )\n",
      "                                                         )\n",
      "                                               ]\n",
      "                                   )\n",
      "                     )\n",
      "            ]\n",
      "        )\n"
     ]
    }
   ],
   "source": [
    "print_tree()"
   ]
  },
  {
   "cell_type": "code",
   "execution_count": null,
   "id": "6ecfe0f1",
   "metadata": {},
   "outputs": [],
   "source": []
  }
 ],
 "metadata": {
  "kernelspec": {
   "display_name": "Python 3 (ipykernel)",
   "language": "python",
   "name": "python3"
  },
  "language_info": {
   "codemirror_mode": {
    "name": "ipython",
    "version": 3
   },
   "file_extension": ".py",
   "mimetype": "text/x-python",
   "name": "python",
   "nbconvert_exporter": "python",
   "pygments_lexer": "ipython3",
   "version": "3.9.13"
  }
 },
 "nbformat": 4,
 "nbformat_minor": 5
}
