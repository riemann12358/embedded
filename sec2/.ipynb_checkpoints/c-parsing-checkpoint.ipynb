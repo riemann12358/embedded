{
 "cells": [
  {
   "cell_type": "code",
   "execution_count": null,
   "id": "6347049b",
   "metadata": {},
   "outputs": [],
   "source": [
    "import argparse\n",
    "import sys\n",
    "\n",
    "sys.path.extend(['.', '..'])\n",
    "\n",
    "from pycparser import parse_file\n",
    "\n",
    "if __name__ == \"__main__\":\n",
    "    argparser = argparse.ArgumentParser('Dump AST')\n",
    "    argparser.add_argument('filename',\n",
    "                           default='./varibales.c',\n",
    "                           nargs='?',\n",
    "                           help='name of file to parse')\n",
    "    argparser.add_argument('--coord', help='show coordinates in the dump',\n",
    "                           action='store_true')\n",
    "    args = argparser.parse_args()\n",
    "\n",
    "    ast = parse_file(args.filename, use_cpp=False)\n",
    "    ast.show(showcoord=args.coord)"
   ]
  }
 ],
 "metadata": {
  "kernelspec": {
   "display_name": "Python 3 (ipykernel)",
   "language": "python",
   "name": "python3"
  },
  "language_info": {
   "codemirror_mode": {
    "name": "ipython",
    "version": 3
   },
   "file_extension": ".py",
   "mimetype": "text/x-python",
   "name": "python",
   "nbconvert_exporter": "python",
   "pygments_lexer": "ipython3",
   "version": "3.9.13"
  }
 },
 "nbformat": 4,
 "nbformat_minor": 5
}
